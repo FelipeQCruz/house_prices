# -*- coding: utf-8 -*-
"""
Created on Tue Sep 11 20:37:56 2018

@author: Felipe Cruz
"""

import pandas as pd
import numpy as np
from sklearn import datasets

df = pd.read_csv("C:/Users/felip/OneDrive/Documentos/Escola/2018/IA/precos_casa_california.csv")

